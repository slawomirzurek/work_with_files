{
  "nbformat": 4,
  "nbformat_minor": 0,
  "metadata": {
    "colab": {
      "name": "files_counter.ipynb",
      "provenance": [],
      "collapsed_sections": [],
      "authorship_tag": "ABX9TyNvDNEFggoDR1090FfCo04G"
    },
    "kernelspec": {
      "name": "python3",
      "display_name": "Python 3"
    },
    "language_info": {
      "name": "python"
    }
  },
  "cells": [
    {
      "cell_type": "code",
      "execution_count": null,
      "metadata": {
        "id": "5L-YAjZotsvn"
      },
      "outputs": [],
      "source": [
        " -*- coding: cp1250 -*-\n",
        "\n",
        "# Import modules\n",
        "import os, glob, time\n",
        "\n",
        "def check():\n",
        "    directory = glob.glob(os.getcwd())\n",
        "    lista = str(directory) + '\\*'\n",
        "    lista = next(os.walk('.'))[1]\n",
        "    size = 0\n",
        "\n",
        "    if n == 0:\n",
        "        for i,x in enumerate(lista):\n",
        "            print(str(i+1)+\": \"+x)\n",
        "    else:\n",
        "        pass\n",
        "\n",
        "    if n == 0:\n",
        "        p = input(\"\\nSelect an appropriate folder by typing its number:\\n\")\n",
        "    else:\n",
        "        p = input(\"\\n\\nSelect another appropriate folder by typing its number:\\n\")\n",
        "    \n",
        "    folder_name = lista[p-1]\n",
        "    folder_directory = os.path.join(str(directory).split(\"'\")[1], folder_name)\n",
        "    files_in_folder = os.listdir(folder_name)\n",
        "    fileCounter = 0\n",
        "    for path, dirs, files_in_folder in os.walk(folder_directory):\n",
        "        for f in files_in_folder:\n",
        "            if f.endswith('.tif') or f.endswith('.tiff'):\n",
        "                fileCounter += 1\n",
        "                fp = os.path.join(path, f)\n",
        "                size += float(os.path.getsize(fp))\n",
        "    size = round(size/(1024*1024*1024),2)\n",
        "    print(\"\\n\\nFolder: \" + folder_name + \"\\n\" + \"Number of *TIF files: \" + str(fileCounter) + \"\\nSize of files: \" + str(size) + \" GB\")\n",
        "    \n",
        "n = 0\n",
        "while True:\n",
        "    check()\n",
        "    n = 1\n",
        "    if n == 1:\n",
        "        check()\n",
        "    else:\n",
        "        pass"
      ]
    }
  ]
}